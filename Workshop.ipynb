{
 "cells": [
  {
   "cell_type": "markdown",
   "metadata": {},
   "source": [
    "<div align=\"center\">\n",
    "   <img src=\"imgs/mlflow.png\" alt=\"UI MLflow\" width=\"250\"/>\n",
    "</div>\n",
    "\n",
    "<div align=\"center\">\n",
    "  <h1 style=\"color:#0072CE; font-family:sans-serif;\">\n",
    "    Workshop MLflow\n",
    "  </h1>\n",
    "  27 de Marzo de 2025\n",
    "</div>"
   ]
  },
  {
   "cell_type": "markdown",
   "metadata": {},
   "source": [
    "👉 **Todo el contenido y archivos están en el repo:** `github.com/tmonreal/mlflow-workshop`"
   ]
  },
  {
   "cell_type": "markdown",
   "metadata": {},
   "source": [
    "# Motivación\n",
    "- La mayoría de los proyectos de machine learning no cuentan con un sistema dedicado para la gestión y el seguimiento de experimentos.\n",
    "- Esto nos ayuda a hacer un seguimiento de:\n",
    "\n",
    "1. La configuración del modelo: clave para la reproducibilidad.\n",
    "2. El rendimiento del modelo: fundamental para comparar distintos modelos.\n",
    "\n",
    "    ... a lo largo de todos los experimentos.\n",
    "\n",
    "- Muchísimos data scientists/ingenieros de ML desarrollan modelos completos en notebooks de Jupyter, sin contar con protocolos bien definidos ni automatizados para asegurar la reproducibilidad o el seguimiento de performance.\n",
    "\n",
    "<div align=\"center\">\n",
    "   <img src=\"imgs/image-1.png\" alt=\"UI MLflow\" width=\"700\"/>\n",
    "</div>"
   ]
  },
  {
   "cell_type": "markdown",
   "metadata": {},
   "source": [
    "- Suelen depender fuertemente de sistemas de seguimiento ineficientes y manuales (como planillas, documentos, etc.) que rápidamente se vuelven difíciles de manejar.\n",
    "\n",
    "<div align=\"center\">\n",
    "   <img src=\"imgs/image-2.png\" alt=\"UI MLflow\" width=\"700\"/>\n",
    "   <img src=\"imgs/image-3.png\" alt=\"UI MLflow\" width=\"700\"/>\n",
    "</div>"
   ]
  },
  {
   "cell_type": "markdown",
   "metadata": {},
   "source": [
    "- MLflow se destaca como una herramienta muy valiosa para data scientists, ya que ofrece prácticas sólidas para estructurar y gestionar pipelines de ML.\n",
    "\n",
    "- Se integra sin problemas con distintos servicios en la nube, lo que permite una gran flexibilidad en su uso, ya sea de forma local por una sola persona o de manera remota por un equipo grande de ingeniería de ML.\n",
    "\n",
    "- Vamos a ver como podemos integrar MLflow en nuestros proyectos de machine learning existentes, lo que nos permite automatizar muchas tareas repetitivas y manuales."
   ]
  },
  {
   "cell_type": "markdown",
   "metadata": {},
   "source": [
    "## Desafíos tradicionales en proyectos de ML\n",
    "\n",
    "### 1. Prácticas inadecuadas de control de versiones\n",
    "\n",
    "- Uno de los desafíos más comunes en el modelado tradicional de ML es la ausencia de buenas prácticas de control de versiones.\n",
    "\n",
    "   - Se suele versionar solo el código, pero no los datos ni los modelos entrenados.\n",
    "   - Muchas veces no queda registro de con qué configuración se entrenó un modelo.\n",
    "   - Si alguien vuelve a correr el mismo notebook semanas después, es muy probable que los resultados no sean exactamente iguales.\n",
    "\n",
    "<div align=\"center\">\n",
    "   <img src=\"imgs/image-4.png\" alt=\"UI MLflow\" width=\"700\"/>\n",
    "</div>\n",
    "\n",
    "### 2. Seguimiento manual de parámetros y datos\n",
    "\n",
    "- En los flujos de trabajo tradicionales de ML, llevar el registro de los parámetros y los datos de forma manual representa un gran desafío.\n",
    "\n",
    "- Este proceso, además de ser propenso a errores y muy poco eficiente, carece de trazabilidad real.\n",
    "\n",
    "- Muchos practicantes de ML recurren a planillas de cálculo o documentos para anotar configuraciones de hiperparámetros y las fuentes de los datos utilizados. Pero este enfoque:\n",
    "\n",
    "   - Complica la organización de los experimentos,\n",
    "   - Dificulta mantener un historial completo y claro,\n",
    "   - Y pone en riesgo la posibilidad de reproducir y validar los resultados más adelante.\n",
    "\n",
    "<div align=\"center\">\n",
    "   <img src=\"imgs/image-5.png\" alt=\"UI MLflow\" width=\"700\"/>\n",
    "</div>\n",
    "\n",
    "### 3. Obstáculos para la colaboración\n",
    "\n",
    "- La colaboración en entornos tradicionales de ML suele enfrentar cuellos de botella debido a la falta de herramientas centralizadas y prácticas estandarizadas.\n",
    "\n",
    "- En general, cada integrante del equipo trabaja de forma bastante aislada, y compartir modelos, experimentos o hallazgos se vuelve engorroso y desordenado.\n",
    "\n",
    "- La ausencia de una plataforma unificada para colaborar produce:\n",
    "\n",
    "   - Esfuerzos aislados, donde cada persona lleva su propio seguimiento\n",
    "   - Dificultad para compartir conocimiento\n",
    "   - Ciclos de desarrollo más lentos\n",
    "   - Y un freno al progreso colectivo del equipo\n",
    "\n",
    "<div align=\"center\">\n",
    "   <img src=\"imgs/image-6.png\" alt=\"UI MLflow\" width=\"700\"/>\n",
    "</div>"
   ]
  },
  {
   "cell_type": "markdown",
   "metadata": {},
   "source": [
    "## Intro a MLflow\n",
    "\n",
    "- Abordar estos desafíos es fundamental para construir flujos de trabajo de ML que sean __eficientes, escalables y reproducibles__.\n",
    "- Estos desafíos pueden resolverse de forma elegante aplicando prácticas estándar de MLOps que permiten construir, entrenar, desplegar e incluso automatizar distintas etapas de un proyecto, con muy poca intervención manual.\n",
    "- Una de las mejores herramientas en este sentido es MLflow, que además es completamente open-source.\n",
    "\n",
    "<div align=\"center\">\n",
    "   <img src=\"imgs/mlflow.png\" alt=\"UI MLflow\" width=\"500\"/>\n",
    "</div>\n",
    "\n",
    "\n",
    "### Componentes de MLflow\n",
    "\n",
    "MLflow está compuesto por varios módulos, cada uno diseñado para resolver un problema específico dentro del ciclo de vida de un proyecto de machine learning.\n",
    "\n",
    "**Componentes principales de MLflow:**\n",
    "\n",
    "> **[1. MLflow Tracking](https://mlflow.org/docs/latest/tracking/)**\n",
    "- Sirve para hacer el seguimiento de experimentos: código, datos, configuraciones de modelos y resultados.\n",
    "- También permite comparar runs y elegir el mejor modelo.\n",
    "\n",
    "> **[2. MLflow Projects](https://mlflow.org/docs/latest/projects/)**\n",
    "- Permite empaquetar el código de proyectos de ML en un formato reproducible en cualquier plataforma.\n",
    "- Ideal para compartir workflows de forma ordenada.\n",
    "\n",
    "> **[3. MLflow Models](https://mlflow.org/docs/latest/model)**\n",
    "- Facilita el deployment de modelos entrenados con distintas librerías (scikit-learn, XGBoost, PyTorch, etc.) en distintos entornos de servicio.\n",
    "\n",
    "> **[4. MLflow Model Registry](https://mlflow.org/docs/latest/model-registry)**\n",
    "- Es un sistema dedicado para gestionar, versionar y rastrear modelos, con estados (Staging, Production, etc.) y metadata asociada.\n",
    "\n",
    "**Nuevos componentes de MLflow orientados a LLMs:**\n",
    "\n",
    "> **[5. MLflow Deployments for LLMs](https://mlflow.org/docs/latest/llms/deployments/guides/index.html)**\n",
    "\n",
    "> **[6. MLflow LLM Evaluate](https://mlflow.org/docs/latest/llms/llm-evaluate/index.html)**\n",
    "\n",
    "\n",
    "### Terminología en MLflow\n",
    "\n",
    "#### ¿Qué es un experiment y un run en MLflow?\n",
    "- Un _experiment_ es un contenedor donde agrupás varias ejecuciones (runs) relacionadas con una misma tarea.\n",
    "- Un _run_ es una ejecución concreta de un modelo con ciertos parámetros, datos y resultados\n",
    "\n",
    "<div align=\"center\">\n",
    "   <img src=\"imgs/image-7.png\" alt=\"UI MLflow\" width=\"500\"/>\n",
    "   <img src=\"imgs/image-8.png\" alt=\"UI MLflow\" width=\"500\"/>\n",
    "</div>\n",
    "\n"
   ]
  },
  {
   "cell_type": "markdown",
   "metadata": {},
   "source": [
    "### ⚙️ Instalación y setup"
   ]
  },
  {
   "cell_type": "code",
   "execution_count": null,
   "metadata": {},
   "outputs": [],
   "source": [
    "%pip install mlflow"
   ]
  },
  {
   "cell_type": "code",
   "execution_count": 2,
   "metadata": {},
   "outputs": [
    {
     "name": "stdout",
     "output_type": "stream",
     "text": [
      "Versión de MLflow: 2.21.1\n"
     ]
    }
   ],
   "source": [
    "# Verificamos instalación\n",
    "import mlflow\n",
    "print(\"Versión de MLflow:\", mlflow.__version__)"
   ]
  },
  {
   "cell_type": "markdown",
   "metadata": {},
   "source": [
    "### Interfaz web de MLflow\n",
    "\n",
    "Para ver los experimentos registrados, corré este comando en tu terminal:\n",
    "\n",
    "> ```bash\n",
    "> mlflow ui\n",
    "\n",
    "Una vez que corra, abrí tu navegador en: http://localhost:5000\n"
   ]
  },
  {
   "cell_type": "markdown",
   "metadata": {},
   "source": [
    "#### 📖 Navegando la UI de MLflow\n",
    "\n",
    "Una vez que levantás la UI con `mlflow ui`, vas a ver una pantalla como esta:\n",
    "\n",
    "<div align=\"center\">\n",
    "    <img src=\"imgs/mlflow_1.png\" alt=\"UI MLflow\" width=\"900\"/>\n",
    "</div>\n",
    "\n",
    "- En la parte superior derecha vas a encontrar un botón que dice [\"Docs\"](https://www.mlflow.org/docs/latest/index.html) que te lleva a la documentación oficial de MLflow.  \n",
    "- Está bastante bien explicada y podés encontrar info sobre:\n",
    "    - Cómo registrar parámetros, métricas, artefactos y modelos\n",
    "    - Cómo comparar distintos runs\n",
    "    - Cómo usar MLflow con distintos frameworks (sklearn, PyTorch, etc.)\n",
    "    - Cómo desplegar modelos en producción\n",
    "    - Cómo configurar MLflow en modo servidor compartido\n",
    "\n",
    "💡 Si te interesa profundizar, este es un buen punto de partida para seguir aprendiendo.\n"
   ]
  },
  {
   "cell_type": "markdown",
   "metadata": {},
   "source": [
    "### 🧪 Registrar experimentos en MLflow\n",
    "\n",
    "Ahora sí, vamos a empezar a **registrar algunos experimentos con MLflow**.\n",
    "\n",
    "Para eso, vamos a armar un ejemplo bien básico de clasificación, usando un **dataset sintético** con **desbalance de clases**. Esto nos va a permitir:\n",
    "\n",
    "- Probar cómo se registran los parámetros del modelo\n",
    "- Ver cómo guardar métricas de evaluación\n",
    "- Dejar guardado el modelo entrenado\n",
    "- Visualizar todo desde la UI de MLflow\n",
    "\n",
    "💡 Este tipo de ejercicios es ideal para entender cómo usar MLflow en situaciones reales donde probamos varios modelos y queremos compararlos fácilmente."
   ]
  },
  {
   "cell_type": "markdown",
   "metadata": {},
   "source": [
    "##### ➡️ Vamos al notebook `first_experiment.ipynb`\n",
    "##### ➡️ Vamos al notebook `second_experiment.ipynb`"
   ]
  },
  {
   "cell_type": "markdown",
   "metadata": {},
   "source": [
    "### 📦 De Experiment Tracking a Model Registration\n",
    "\n",
    "- Hasta ahora estuvimos usando MLflow para **hacer seguimiento de experimentos**: registramos métricas, parámetros, datasets y modelos entrenados.\n",
    "\n",
    "- Ahora vamos a pasar a la siguiente etapa: **Model Registration**.\n",
    "\n",
    "- Viendo las métricas obtenidas por cada modelo, podemos **elegir cuál fue el mejor** y registrar ese modelo en el **Model Registry** de MLflow.\n",
    "\n",
    "- Esto nos permite:\n",
    "    - Versionar modelos elegidos\n",
    "    - Marcar modelos como \"Staging\", \"Production\" o \"Archived\"\n",
    "    - Tener un punto centralizado para desplegar desde ahí\n",
    "\n",
    "📚 Más info en la [documentación oficial.](https://www.mlflow.org/docs/latest/model-registry/)\n"
   ]
  },
  {
   "cell_type": "markdown",
   "metadata": {},
   "source": [
    "##### ➡️ Vamos al notebook `register_model.ipynb`"
   ]
  }
 ],
 "metadata": {
  "kernelspec": {
   "display_name": ".venv",
   "language": "python",
   "name": "python3"
  },
  "language_info": {
   "codemirror_mode": {
    "name": "ipython",
    "version": 3
   },
   "file_extension": ".py",
   "mimetype": "text/x-python",
   "name": "python",
   "nbconvert_exporter": "python",
   "pygments_lexer": "ipython3",
   "version": "3.12.3"
  }
 },
 "nbformat": 4,
 "nbformat_minor": 2
}
