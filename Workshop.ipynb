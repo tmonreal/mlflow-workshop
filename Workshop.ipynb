{
 "cells": [
  {
   "cell_type": "markdown",
   "metadata": {},
   "source": [
    "# MLflow Workshop"
   ]
  },
  {
   "cell_type": "markdown",
   "metadata": {},
   "source": [
    "(AGREGAR INTRO)\n",
    "\n",
    "Hasta min 7.42: https://www.youtube.com/watch?v=6ngxBkx05Fs\n",
    "\n",
    "🎯 ¿Qué vamos a ver?\n",
    "- ¿Qué es MLflow y para qué sirve?\n",
    "- ¿Cómo registrar experimentos y métricas?\n",
    "- ¿Cómo versionar modelos?\n",
    "- Demo paso a paso\n",
    "\n",
    "👉 **Todo el contenido y archivos están en este repo:** `github.com/tmonreal/mlflow-workshop`"
   ]
  },
  {
   "cell_type": "markdown",
   "metadata": {},
   "source": [
    "### ⚙️ Instalación y setup"
   ]
  },
  {
   "cell_type": "code",
   "execution_count": null,
   "metadata": {},
   "outputs": [],
   "source": [
    "%pip install mlflow"
   ]
  },
  {
   "cell_type": "code",
   "execution_count": 2,
   "metadata": {},
   "outputs": [
    {
     "name": "stdout",
     "output_type": "stream",
     "text": [
      "Versión de MLflow: 2.21.1\n"
     ]
    }
   ],
   "source": [
    "# Verificamos instalación\n",
    "import mlflow\n",
    "print(\"Versión de MLflow:\", mlflow.__version__)"
   ]
  },
  {
   "cell_type": "markdown",
   "metadata": {},
   "source": [
    "### Interfaz web de MLflow\n",
    "\n",
    "Para ver los experimentos registrados, corré este comando en tu terminal:\n",
    "\n",
    "> ```bash\n",
    "> mlflow ui\n",
    "\n",
    "Una vez que corra, abrí tu navegador en: http://localhost:5000\n"
   ]
  },
  {
   "cell_type": "markdown",
   "metadata": {},
   "source": [
    "#### 📖 Navegando la UI de MLflow\n",
    "\n",
    "Una vez que levantás la UI con `mlflow ui`, vas a ver una pantalla como esta:\n",
    "\n",
    "<div align=\"center\">\n",
    "    <img src=\"imgs/mlflow_1.png\" alt=\"UI MLflow\" width=\"900\"/>\n",
    "</div>\n",
    "\n",
    "- En la parte superior derecha vas a encontrar un botón que dice [\"Docs\"](https://www.mlflow.org/docs/latest/index.html) que te lleva a la documentación oficial de MLflow.  \n",
    "- Está bastante bien explicada y podés encontrar info sobre:\n",
    "    - Cómo registrar parámetros, métricas, artefactos y modelos\n",
    "    - Cómo comparar distintos runs\n",
    "    - Cómo usar MLflow con distintos frameworks (sklearn, PyTorch, etc.)\n",
    "    - Cómo desplegar modelos en producción\n",
    "    - Cómo configurar MLflow en modo servidor compartido\n",
    "\n",
    "💡 Si te interesa profundizar, este es un buen punto de partida para seguir aprendiendo.\n"
   ]
  },
  {
   "cell_type": "markdown",
   "metadata": {},
   "source": [
    "### 🧪 Registrar experimentos en MLflow\n",
    "\n",
    "Ahora sí, vamos a empezar a **registrar algunos experimentos con MLflow**.\n",
    "\n",
    "Para eso, vamos a armar un ejemplo bien básico de clasificación, usando un **dataset sintético** con **desbalance de clases**. Esto nos va a permitir:\n",
    "\n",
    "- Probar cómo se registran los parámetros del modelo\n",
    "- Ver cómo guardar métricas de evaluación\n",
    "- Dejar guardado el modelo entrenado\n",
    "- Visualizar todo desde la UI de MLflow\n",
    "\n",
    "💡 Este tipo de ejercicios es ideal para entender cómo usar MLflow en situaciones reales donde probamos varios modelos y queremos compararlos fácilmente.\n",
    "\n",
    "##### ➡️ Vamos al notebook `first_experiment.ipynb`"
   ]
  },
  {
   "cell_type": "markdown",
   "metadata": {},
   "source": []
  }
 ],
 "metadata": {
  "kernelspec": {
   "display_name": ".venv",
   "language": "python",
   "name": "python3"
  },
  "language_info": {
   "codemirror_mode": {
    "name": "ipython",
    "version": 3
   },
   "file_extension": ".py",
   "mimetype": "text/x-python",
   "name": "python",
   "nbconvert_exporter": "python",
   "pygments_lexer": "ipython3",
   "version": "3.12.3"
  }
 },
 "nbformat": 4,
 "nbformat_minor": 2
}
