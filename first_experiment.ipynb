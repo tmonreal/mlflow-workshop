{
 "cells": [
  {
   "cell_type": "code",
   "execution_count": 1,
   "metadata": {},
   "outputs": [],
   "source": [
    "import numpy as np\n",
    "import pandas as pd\n",
    "from sklearn.datasets import make_classification\n",
    "from sklearn.model_selection import train_test_split\n",
    "from sklearn.linear_model import LogisticRegression\n",
    "from sklearn.ensemble import RandomForestClassifier\n",
    "from xgboost import XGBClassifier\n",
    "from sklearn.metrics import classification_report\n",
    "import warnings\n",
    "warnings.filterwarnings('ignore')"
   ]
  },
  {
   "cell_type": "code",
   "execution_count": 2,
   "metadata": {},
   "outputs": [
    {
     "name": "stdout",
     "output_type": "stream",
     "text": [
      "Clase 0: 90.0% (900 muestras)\n",
      "Clase 1: 10.0% (100 muestras)\n"
     ]
    }
   ],
   "source": [
    "# Create an imbalanced binary classification dataset\n",
    "X, y = make_classification(n_samples=1000, n_features=10, n_informative=2, n_redundant=8, weights=[0.9, 0.1], flip_y=0, random_state=42)\n",
    "\n",
    "classes, counts = np.unique(y, return_counts=True)\n",
    "total = counts.sum()\n",
    "percentages = (counts / total) * 100\n",
    "\n",
    "# Imprimir resultados\n",
    "print(f\"Clase 0: {percentages[0]:.1f}% ({counts[0]} muestras)\")\n",
    "print(f\"Clase 1: {percentages[1]:.1f}% ({counts[1]} muestras)\")"
   ]
  },
  {
   "cell_type": "code",
   "execution_count": 3,
   "metadata": {},
   "outputs": [],
   "source": [
    "# Split the dataset into training (70%) and testing (30%) sets\n",
    "X_train, X_test, y_train, y_test = train_test_split(X, y, test_size=0.3, stratify=y, random_state=42)"
   ]
  },
  {
   "cell_type": "code",
   "execution_count": 4,
   "metadata": {},
   "outputs": [],
   "source": [
    "# Define the model hyperparameters\n",
    "params = {\n",
    "    \"solver\": \"lbfgs\",\n",
    "    \"max_iter\": 1000,\n",
    "    \"multi_class\": \"auto\",\n",
    "    \"random_state\": 8888,\n",
    "}"
   ]
  },
  {
   "cell_type": "code",
   "execution_count": 5,
   "metadata": {},
   "outputs": [
    {
     "name": "stdout",
     "output_type": "stream",
     "text": [
      "              precision    recall  f1-score   support\n",
      "\n",
      "           0       0.95      0.97      0.96       270\n",
      "           1       0.62      0.50      0.56        30\n",
      "\n",
      "    accuracy                           0.92       300\n",
      "   macro avg       0.79      0.73      0.76       300\n",
      "weighted avg       0.91      0.92      0.92       300\n",
      "\n"
     ]
    }
   ],
   "source": [
    "# Train the model\n",
    "lr = LogisticRegression(**params)\n",
    "lr.fit(X_train, y_train)\n",
    "\n",
    "# Predict on the test set\n",
    "y_pred = lr.predict(X_test)\n",
    "\n",
    "report = classification_report(y_test, y_pred)\n",
    "print(report)"
   ]
  },
  {
   "cell_type": "code",
   "execution_count": 6,
   "metadata": {},
   "outputs": [
    {
     "data": {
      "text/plain": [
       "{'0': {'precision': 0.9456521739130435,\n",
       "  'recall': 0.9666666666666667,\n",
       "  'f1-score': 0.9560439560439561,\n",
       "  'support': 270.0},\n",
       " '1': {'precision': 0.625,\n",
       "  'recall': 0.5,\n",
       "  'f1-score': 0.5555555555555556,\n",
       "  'support': 30.0},\n",
       " 'accuracy': 0.92,\n",
       " 'macro avg': {'precision': 0.7853260869565217,\n",
       "  'recall': 0.7333333333333334,\n",
       "  'f1-score': 0.7557997557997558,\n",
       "  'support': 300.0},\n",
       " 'weighted avg': {'precision': 0.9135869565217392,\n",
       "  'recall': 0.92,\n",
       "  'f1-score': 0.9159951159951161,\n",
       "  'support': 300.0}}"
      ]
     },
     "execution_count": 6,
     "metadata": {},
     "output_type": "execute_result"
    }
   ],
   "source": [
    "report_dict = classification_report(y_test, y_pred, output_dict=True) \n",
    "# output_dict=True para obtener un diccionario con los resultados:\n",
    "report_dict"
   ]
  },
  {
   "cell_type": "markdown",
   "metadata": {},
   "source": [
    "➡️ Vamos a usar el `report_dict` (que genera `classification_report` de `sklearn`) para registrar las métricas en MLflow.\n",
    "\n",
    "📌 **Mejor práctica:** entrenamos el modelo, obtenemos todas las métricas que necesitamos, y recién ahí las registramos en MLflow.\n",
    "\n",
    "Esto nos permite tener todo centralizado y ordenado: parámetros, métricas y el modelo entrenado."
   ]
  },
  {
   "cell_type": "code",
   "execution_count": 7,
   "metadata": {},
   "outputs": [],
   "source": [
    "import mlflow\n",
    "from mlflow.models.signature import infer_signature"
   ]
  },
  {
   "cell_type": "code",
   "execution_count": 9,
   "metadata": {},
   "outputs": [
    {
     "name": "stdout",
     "output_type": "stream",
     "text": [
      "🏃 View run Baseline_LogisticRegression at: http://localhost:5000/#/experiments/744018259773384787/runs/4d6b1e7af7d04e31b9dc975563d59584\n",
      "🧪 View experiment at: http://localhost:5000/#/experiments/744018259773384787\n"
     ]
    }
   ],
   "source": [
    "mlflow.set_experiment(\"First Experiment\")\n",
    "mlflow.set_tracking_uri(uri=\"http://localhost:5000/\") # Es el uri que obtuvimos cuando corrimos mlflow ui\n",
    "\n",
    "with mlflow.start_run(run_name=\"Baseline_LogisticRegression\"):\n",
    "    # Log de hiperparámetros del modelo\n",
    "    mlflow.log_params(params) \n",
    "    # Log de métricas de evaluación\n",
    "    mlflow.log_metrics({\n",
    "        'accuracy': report_dict['accuracy'],\n",
    "        'recall_class_0': report_dict['0']['recall'],\n",
    "        'recall_class_1': report_dict['1']['recall'],\n",
    "        'precision_class_0': report_dict['0']['precision'],\n",
    "        'precision_class_1': report_dict['1']['precision'],\n",
    "        'f1_score_macro': report_dict['macro avg']['f1-score']\n",
    "    })\n",
    "\n",
    "    # input_example: muestra representativa de las entradas que espera el modelo\n",
    "    # Sirve para documentar el modelo y facilitar su uso o despliegue\n",
    "    input_example = pd.DataFrame(X_test[:2], columns=[f\"feature_{i}\" for i in range(X.shape[1])])\n",
    "    \n",
    "    # signature: describe la forma y tipo de las entradas y salidas del modelo\n",
    "    # Se infiere automáticamente a partir de X_test e y_pred\n",
    "    signature = infer_signature(X_test, y_pred)\n",
    "    \n",
    "    # Log del modelo\n",
    "    mlflow.sklearn.log_model(lr, \n",
    "                             \"Logistic Regression\", \n",
    "                             input_example = input_example, \n",
    "                             signature = signature)  "
   ]
  },
  {
   "cell_type": "markdown",
   "metadata": {},
   "source": [
    "✅¡Listo! Tu experimento y tu run se registraron correctamente en MLflow 🎉\n",
    "\n",
    "Como ya tenemos todo registrado en MLflow —el modelo, los parámetros, las métricas, el input esperado y la signature—, **nuestro experimento está empaquetado como una \"unidad atómica\"**.\n",
    "\n",
    "💡 Esto significa que ahora podemos:\n",
    "\n",
    "- Servir el modelo como una API REST con un solo comando\n",
    "- Exportarlo para producción\n",
    "- Reproducir exactamente cómo fue entrenado\n",
    "- 🐳 Dockerizarlo fácilmente\n",
    "\n",
    "Todo esto es posible porque ahora nuestro modelo es una unidad autocontenida que MLflow puede entender, mover y ejecutar sin que tengamos que reescribir código o recordar configuraciones.\n",
    "\n"
   ]
  }
 ],
 "metadata": {
  "kernelspec": {
   "display_name": ".venv",
   "language": "python",
   "name": "python3"
  },
  "language_info": {
   "codemirror_mode": {
    "name": "ipython",
    "version": 3
   },
   "file_extension": ".py",
   "mimetype": "text/x-python",
   "name": "python",
   "nbconvert_exporter": "python",
   "pygments_lexer": "ipython3",
   "version": "3.12.3"
  }
 },
 "nbformat": 4,
 "nbformat_minor": 2
}
